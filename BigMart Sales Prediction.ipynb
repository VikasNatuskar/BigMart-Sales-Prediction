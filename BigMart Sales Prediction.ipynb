{
 "cells": [
  {
   "cell_type": "code",
   "execution_count": 1,
   "id": "5dcb76ff",
   "metadata": {},
   "outputs": [],
   "source": [
    "import numpy as np\n",
    "import pandas as pd\n",
    "\n",
    "import matplotlib.pyplot as plt\n",
    "import seaborn as sns\n",
    "import warnings\n",
    "warnings.filterwarnings('ignore')"
   ]
  },
  {
   "cell_type": "code",
   "execution_count": 2,
   "id": "679f1d8e",
   "metadata": {},
   "outputs": [],
   "source": [
    "train = pd.read_csv('train.csv')\n",
    "test = pd.read_csv('test.csv')\n",
    "\n",
    "test_val = pd.read_csv('sample_submission.csv')"
   ]
  },
  {
   "cell_type": "code",
   "execution_count": 3,
   "id": "bf605602",
   "metadata": {},
   "outputs": [
    {
     "data": {
      "text/html": [
       "<div>\n",
       "<style scoped>\n",
       "    .dataframe tbody tr th:only-of-type {\n",
       "        vertical-align: middle;\n",
       "    }\n",
       "\n",
       "    .dataframe tbody tr th {\n",
       "        vertical-align: top;\n",
       "    }\n",
       "\n",
       "    .dataframe thead th {\n",
       "        text-align: right;\n",
       "    }\n",
       "</style>\n",
       "<table border=\"1\" class=\"dataframe\">\n",
       "  <thead>\n",
       "    <tr style=\"text-align: right;\">\n",
       "      <th></th>\n",
       "      <th>Item_Identifier</th>\n",
       "      <th>Item_Weight</th>\n",
       "      <th>Item_Fat_Content</th>\n",
       "      <th>Item_Visibility</th>\n",
       "      <th>Item_Type</th>\n",
       "      <th>Item_MRP</th>\n",
       "      <th>Outlet_Identifier</th>\n",
       "      <th>Outlet_Establishment_Year</th>\n",
       "      <th>Outlet_Size</th>\n",
       "      <th>Outlet_Location_Type</th>\n",
       "      <th>Outlet_Type</th>\n",
       "      <th>Item_Outlet_Sales</th>\n",
       "    </tr>\n",
       "  </thead>\n",
       "  <tbody>\n",
       "    <tr>\n",
       "      <th>0</th>\n",
       "      <td>FDA15</td>\n",
       "      <td>9.30</td>\n",
       "      <td>Low Fat</td>\n",
       "      <td>0.016047</td>\n",
       "      <td>Dairy</td>\n",
       "      <td>249.8092</td>\n",
       "      <td>OUT049</td>\n",
       "      <td>1999</td>\n",
       "      <td>Medium</td>\n",
       "      <td>Tier 1</td>\n",
       "      <td>Supermarket Type1</td>\n",
       "      <td>3735.1380</td>\n",
       "    </tr>\n",
       "    <tr>\n",
       "      <th>1</th>\n",
       "      <td>DRC01</td>\n",
       "      <td>5.92</td>\n",
       "      <td>Regular</td>\n",
       "      <td>0.019278</td>\n",
       "      <td>Soft Drinks</td>\n",
       "      <td>48.2692</td>\n",
       "      <td>OUT018</td>\n",
       "      <td>2009</td>\n",
       "      <td>Medium</td>\n",
       "      <td>Tier 3</td>\n",
       "      <td>Supermarket Type2</td>\n",
       "      <td>443.4228</td>\n",
       "    </tr>\n",
       "    <tr>\n",
       "      <th>2</th>\n",
       "      <td>FDN15</td>\n",
       "      <td>17.50</td>\n",
       "      <td>Low Fat</td>\n",
       "      <td>0.016760</td>\n",
       "      <td>Meat</td>\n",
       "      <td>141.6180</td>\n",
       "      <td>OUT049</td>\n",
       "      <td>1999</td>\n",
       "      <td>Medium</td>\n",
       "      <td>Tier 1</td>\n",
       "      <td>Supermarket Type1</td>\n",
       "      <td>2097.2700</td>\n",
       "    </tr>\n",
       "    <tr>\n",
       "      <th>3</th>\n",
       "      <td>FDX07</td>\n",
       "      <td>19.20</td>\n",
       "      <td>Regular</td>\n",
       "      <td>0.000000</td>\n",
       "      <td>Fruits and Vegetables</td>\n",
       "      <td>182.0950</td>\n",
       "      <td>OUT010</td>\n",
       "      <td>1998</td>\n",
       "      <td>NaN</td>\n",
       "      <td>Tier 3</td>\n",
       "      <td>Grocery Store</td>\n",
       "      <td>732.3800</td>\n",
       "    </tr>\n",
       "    <tr>\n",
       "      <th>4</th>\n",
       "      <td>NCD19</td>\n",
       "      <td>8.93</td>\n",
       "      <td>Low Fat</td>\n",
       "      <td>0.000000</td>\n",
       "      <td>Household</td>\n",
       "      <td>53.8614</td>\n",
       "      <td>OUT013</td>\n",
       "      <td>1987</td>\n",
       "      <td>High</td>\n",
       "      <td>Tier 3</td>\n",
       "      <td>Supermarket Type1</td>\n",
       "      <td>994.7052</td>\n",
       "    </tr>\n",
       "  </tbody>\n",
       "</table>\n",
       "</div>"
      ],
      "text/plain": [
       "  Item_Identifier  Item_Weight Item_Fat_Content  Item_Visibility  \\\n",
       "0           FDA15         9.30          Low Fat         0.016047   \n",
       "1           DRC01         5.92          Regular         0.019278   \n",
       "2           FDN15        17.50          Low Fat         0.016760   \n",
       "3           FDX07        19.20          Regular         0.000000   \n",
       "4           NCD19         8.93          Low Fat         0.000000   \n",
       "\n",
       "               Item_Type  Item_MRP Outlet_Identifier  \\\n",
       "0                  Dairy  249.8092            OUT049   \n",
       "1            Soft Drinks   48.2692            OUT018   \n",
       "2                   Meat  141.6180            OUT049   \n",
       "3  Fruits and Vegetables  182.0950            OUT010   \n",
       "4              Household   53.8614            OUT013   \n",
       "\n",
       "   Outlet_Establishment_Year Outlet_Size Outlet_Location_Type  \\\n",
       "0                       1999      Medium               Tier 1   \n",
       "1                       2009      Medium               Tier 3   \n",
       "2                       1999      Medium               Tier 1   \n",
       "3                       1998         NaN               Tier 3   \n",
       "4                       1987        High               Tier 3   \n",
       "\n",
       "         Outlet_Type  Item_Outlet_Sales  \n",
       "0  Supermarket Type1          3735.1380  \n",
       "1  Supermarket Type2           443.4228  \n",
       "2  Supermarket Type1          2097.2700  \n",
       "3      Grocery Store           732.3800  \n",
       "4  Supermarket Type1           994.7052  "
      ]
     },
     "execution_count": 3,
     "metadata": {},
     "output_type": "execute_result"
    }
   ],
   "source": [
    "train.head()"
   ]
  },
  {
   "cell_type": "code",
   "execution_count": 4,
   "id": "bdbf4508",
   "metadata": {},
   "outputs": [
    {
     "data": {
      "text/plain": [
       "(8523, 12)"
      ]
     },
     "execution_count": 4,
     "metadata": {},
     "output_type": "execute_result"
    }
   ],
   "source": [
    "train.shape"
   ]
  },
  {
   "cell_type": "code",
   "execution_count": 5,
   "id": "ffe039d6",
   "metadata": {},
   "outputs": [
    {
     "data": {
      "text/plain": [
       "Item_Identifier                 0\n",
       "Item_Weight                  1463\n",
       "Item_Fat_Content                0\n",
       "Item_Visibility                 0\n",
       "Item_Type                       0\n",
       "Item_MRP                        0\n",
       "Outlet_Identifier               0\n",
       "Outlet_Establishment_Year       0\n",
       "Outlet_Size                  2410\n",
       "Outlet_Location_Type            0\n",
       "Outlet_Type                     0\n",
       "Item_Outlet_Sales               0\n",
       "dtype: int64"
      ]
     },
     "execution_count": 5,
     "metadata": {},
     "output_type": "execute_result"
    }
   ],
   "source": [
    "train.apply(lambda x: sum(x.isna()))"
   ]
  },
  {
   "cell_type": "code",
   "execution_count": 6,
   "id": "66ba8435",
   "metadata": {},
   "outputs": [
    {
     "data": {
      "text/html": [
       "<div>\n",
       "<style scoped>\n",
       "    .dataframe tbody tr th:only-of-type {\n",
       "        vertical-align: middle;\n",
       "    }\n",
       "\n",
       "    .dataframe tbody tr th {\n",
       "        vertical-align: top;\n",
       "    }\n",
       "\n",
       "    .dataframe thead th {\n",
       "        text-align: right;\n",
       "    }\n",
       "</style>\n",
       "<table border=\"1\" class=\"dataframe\">\n",
       "  <thead>\n",
       "    <tr style=\"text-align: right;\">\n",
       "      <th></th>\n",
       "      <th>Item_Identifier</th>\n",
       "      <th>Item_Weight</th>\n",
       "      <th>Item_Fat_Content</th>\n",
       "      <th>Item_Visibility</th>\n",
       "      <th>Item_Type</th>\n",
       "      <th>Item_MRP</th>\n",
       "      <th>Outlet_Identifier</th>\n",
       "      <th>Outlet_Establishment_Year</th>\n",
       "      <th>Outlet_Size</th>\n",
       "      <th>Outlet_Location_Type</th>\n",
       "      <th>Outlet_Type</th>\n",
       "    </tr>\n",
       "  </thead>\n",
       "  <tbody>\n",
       "    <tr>\n",
       "      <th>0</th>\n",
       "      <td>FDW58</td>\n",
       "      <td>20.750</td>\n",
       "      <td>Low Fat</td>\n",
       "      <td>0.007565</td>\n",
       "      <td>Snack Foods</td>\n",
       "      <td>107.8622</td>\n",
       "      <td>OUT049</td>\n",
       "      <td>1999</td>\n",
       "      <td>Medium</td>\n",
       "      <td>Tier 1</td>\n",
       "      <td>Supermarket Type1</td>\n",
       "    </tr>\n",
       "    <tr>\n",
       "      <th>1</th>\n",
       "      <td>FDW14</td>\n",
       "      <td>8.300</td>\n",
       "      <td>reg</td>\n",
       "      <td>0.038428</td>\n",
       "      <td>Dairy</td>\n",
       "      <td>87.3198</td>\n",
       "      <td>OUT017</td>\n",
       "      <td>2007</td>\n",
       "      <td>NaN</td>\n",
       "      <td>Tier 2</td>\n",
       "      <td>Supermarket Type1</td>\n",
       "    </tr>\n",
       "    <tr>\n",
       "      <th>2</th>\n",
       "      <td>NCN55</td>\n",
       "      <td>14.600</td>\n",
       "      <td>Low Fat</td>\n",
       "      <td>0.099575</td>\n",
       "      <td>Others</td>\n",
       "      <td>241.7538</td>\n",
       "      <td>OUT010</td>\n",
       "      <td>1998</td>\n",
       "      <td>NaN</td>\n",
       "      <td>Tier 3</td>\n",
       "      <td>Grocery Store</td>\n",
       "    </tr>\n",
       "    <tr>\n",
       "      <th>3</th>\n",
       "      <td>FDQ58</td>\n",
       "      <td>7.315</td>\n",
       "      <td>Low Fat</td>\n",
       "      <td>0.015388</td>\n",
       "      <td>Snack Foods</td>\n",
       "      <td>155.0340</td>\n",
       "      <td>OUT017</td>\n",
       "      <td>2007</td>\n",
       "      <td>NaN</td>\n",
       "      <td>Tier 2</td>\n",
       "      <td>Supermarket Type1</td>\n",
       "    </tr>\n",
       "    <tr>\n",
       "      <th>4</th>\n",
       "      <td>FDY38</td>\n",
       "      <td>NaN</td>\n",
       "      <td>Regular</td>\n",
       "      <td>0.118599</td>\n",
       "      <td>Dairy</td>\n",
       "      <td>234.2300</td>\n",
       "      <td>OUT027</td>\n",
       "      <td>1985</td>\n",
       "      <td>Medium</td>\n",
       "      <td>Tier 3</td>\n",
       "      <td>Supermarket Type3</td>\n",
       "    </tr>\n",
       "  </tbody>\n",
       "</table>\n",
       "</div>"
      ],
      "text/plain": [
       "  Item_Identifier  Item_Weight Item_Fat_Content  Item_Visibility    Item_Type  \\\n",
       "0           FDW58       20.750          Low Fat         0.007565  Snack Foods   \n",
       "1           FDW14        8.300              reg         0.038428        Dairy   \n",
       "2           NCN55       14.600          Low Fat         0.099575       Others   \n",
       "3           FDQ58        7.315          Low Fat         0.015388  Snack Foods   \n",
       "4           FDY38          NaN          Regular         0.118599        Dairy   \n",
       "\n",
       "   Item_MRP Outlet_Identifier  Outlet_Establishment_Year Outlet_Size  \\\n",
       "0  107.8622            OUT049                       1999      Medium   \n",
       "1   87.3198            OUT017                       2007         NaN   \n",
       "2  241.7538            OUT010                       1998         NaN   \n",
       "3  155.0340            OUT017                       2007         NaN   \n",
       "4  234.2300            OUT027                       1985      Medium   \n",
       "\n",
       "  Outlet_Location_Type        Outlet_Type  \n",
       "0               Tier 1  Supermarket Type1  \n",
       "1               Tier 2  Supermarket Type1  \n",
       "2               Tier 3      Grocery Store  \n",
       "3               Tier 2  Supermarket Type1  \n",
       "4               Tier 3  Supermarket Type3  "
      ]
     },
     "execution_count": 6,
     "metadata": {},
     "output_type": "execute_result"
    }
   ],
   "source": [
    "test.head()"
   ]
  },
  {
   "cell_type": "code",
   "execution_count": 7,
   "id": "e2930cf3",
   "metadata": {},
   "outputs": [
    {
     "data": {
      "text/plain": [
       "(5681, 11)"
      ]
     },
     "execution_count": 7,
     "metadata": {},
     "output_type": "execute_result"
    }
   ],
   "source": [
    "test.shape"
   ]
  },
  {
   "cell_type": "code",
   "execution_count": 8,
   "id": "43bed418",
   "metadata": {},
   "outputs": [
    {
     "data": {
      "text/plain": [
       "Item_Identifier                 0\n",
       "Item_Weight                   976\n",
       "Item_Fat_Content                0\n",
       "Item_Visibility                 0\n",
       "Item_Type                       0\n",
       "Item_MRP                        0\n",
       "Outlet_Identifier               0\n",
       "Outlet_Establishment_Year       0\n",
       "Outlet_Size                  1606\n",
       "Outlet_Location_Type            0\n",
       "Outlet_Type                     0\n",
       "dtype: int64"
      ]
     },
     "execution_count": 8,
     "metadata": {},
     "output_type": "execute_result"
    }
   ],
   "source": [
    "test.apply(lambda x: sum(x.isna()))"
   ]
  },
  {
   "cell_type": "code",
   "execution_count": 9,
   "id": "aa73f311",
   "metadata": {},
   "outputs": [
    {
     "name": "stdout",
     "output_type": "stream",
     "text": [
      "<class 'pandas.core.frame.DataFrame'>\n",
      "RangeIndex: 8523 entries, 0 to 8522\n",
      "Data columns (total 12 columns):\n",
      " #   Column                     Non-Null Count  Dtype  \n",
      "---  ------                     --------------  -----  \n",
      " 0   Item_Identifier            8523 non-null   object \n",
      " 1   Item_Weight                7060 non-null   float64\n",
      " 2   Item_Fat_Content           8523 non-null   object \n",
      " 3   Item_Visibility            8523 non-null   float64\n",
      " 4   Item_Type                  8523 non-null   object \n",
      " 5   Item_MRP                   8523 non-null   float64\n",
      " 6   Outlet_Identifier          8523 non-null   object \n",
      " 7   Outlet_Establishment_Year  8523 non-null   int64  \n",
      " 8   Outlet_Size                6113 non-null   object \n",
      " 9   Outlet_Location_Type       8523 non-null   object \n",
      " 10  Outlet_Type                8523 non-null   object \n",
      " 11  Item_Outlet_Sales          8523 non-null   float64\n",
      "dtypes: float64(4), int64(1), object(7)\n",
      "memory usage: 799.2+ KB\n"
     ]
    }
   ],
   "source": [
    "train.info()"
   ]
  },
  {
   "cell_type": "code",
   "execution_count": 10,
   "id": "c9349dee",
   "metadata": {},
   "outputs": [],
   "source": [
    "train['Item_Weight'] = train['Item_Weight'].fillna(train['Item_Weight'].dropna().mean())\n",
    "train['Outlet_Size'] = train['Outlet_Size'].fillna(train['Outlet_Size'].dropna().mode()[0])"
   ]
  },
  {
   "cell_type": "code",
   "execution_count": 11,
   "id": "ff5b3052",
   "metadata": {},
   "outputs": [
    {
     "data": {
      "text/plain": [
       "Item_Identifier              0\n",
       "Item_Weight                  0\n",
       "Item_Fat_Content             0\n",
       "Item_Visibility              0\n",
       "Item_Type                    0\n",
       "Item_MRP                     0\n",
       "Outlet_Identifier            0\n",
       "Outlet_Establishment_Year    0\n",
       "Outlet_Size                  0\n",
       "Outlet_Location_Type         0\n",
       "Outlet_Type                  0\n",
       "Item_Outlet_Sales            0\n",
       "dtype: int64"
      ]
     },
     "execution_count": 11,
     "metadata": {},
     "output_type": "execute_result"
    }
   ],
   "source": [
    "train.apply(lambda x: sum(x.isna()))"
   ]
  },
  {
   "cell_type": "code",
   "execution_count": 12,
   "id": "d1577ec1",
   "metadata": {},
   "outputs": [
    {
     "name": "stdout",
     "output_type": "stream",
     "text": [
      "<class 'pandas.core.frame.DataFrame'>\n",
      "RangeIndex: 5681 entries, 0 to 5680\n",
      "Data columns (total 11 columns):\n",
      " #   Column                     Non-Null Count  Dtype  \n",
      "---  ------                     --------------  -----  \n",
      " 0   Item_Identifier            5681 non-null   object \n",
      " 1   Item_Weight                4705 non-null   float64\n",
      " 2   Item_Fat_Content           5681 non-null   object \n",
      " 3   Item_Visibility            5681 non-null   float64\n",
      " 4   Item_Type                  5681 non-null   object \n",
      " 5   Item_MRP                   5681 non-null   float64\n",
      " 6   Outlet_Identifier          5681 non-null   object \n",
      " 7   Outlet_Establishment_Year  5681 non-null   int64  \n",
      " 8   Outlet_Size                4075 non-null   object \n",
      " 9   Outlet_Location_Type       5681 non-null   object \n",
      " 10  Outlet_Type                5681 non-null   object \n",
      "dtypes: float64(3), int64(1), object(7)\n",
      "memory usage: 488.3+ KB\n"
     ]
    }
   ],
   "source": [
    "test.info()"
   ]
  },
  {
   "cell_type": "code",
   "execution_count": 13,
   "id": "5cea8e85",
   "metadata": {},
   "outputs": [],
   "source": [
    "test['Item_Weight'] = test['Item_Weight'].fillna(test['Item_Weight'].dropna().mean())\n",
    "test['Outlet_Size'] = test['Outlet_Size'].fillna(test['Outlet_Size'].dropna().mode()[0])"
   ]
  },
  {
   "cell_type": "code",
   "execution_count": 14,
   "id": "c571d2ab",
   "metadata": {},
   "outputs": [
    {
     "data": {
      "text/plain": [
       "False"
      ]
     },
     "execution_count": 14,
     "metadata": {},
     "output_type": "execute_result"
    }
   ],
   "source": [
    "test.isna().sum().any()"
   ]
  },
  {
   "cell_type": "code",
   "execution_count": 15,
   "id": "d9ce697b",
   "metadata": {},
   "outputs": [
    {
     "data": {
      "text/plain": [
       "FDW13    10\n",
       "FDG33    10\n",
       "NCY18     9\n",
       "FDD38     9\n",
       "DRE49     9\n",
       "         ..\n",
       "FDY43     1\n",
       "FDQ60     1\n",
       "FDO33     1\n",
       "DRF48     1\n",
       "FDC23     1\n",
       "Name: Item_Identifier, Length: 1559, dtype: int64"
      ]
     },
     "execution_count": 15,
     "metadata": {},
     "output_type": "execute_result"
    }
   ],
   "source": [
    "train['Item_Identifier'].value_counts()"
   ]
  },
  {
   "cell_type": "code",
   "execution_count": 16,
   "id": "05f1ed67",
   "metadata": {},
   "outputs": [
    {
     "data": {
      "image/png": "[encoded data removed]",
      "text/plain": [
       "<Figure size 432x288 with 1 Axes>"
      ]
     },
     "metadata": {
      "needs_background": "light"
     },
     "output_type": "display_data"
    }
   ],
   "source": [
    "train['Item_Identifier'].value_counts(normalize= True)\n",
    "train['Item_Identifier'].value_counts().plot.hist()\n",
    "plt.xlabel('Item_indentifier')\n",
    "plt.ylabel('Counts')\n",
    "plt.show()"
   ]
  },
  {
   "cell_type": "code",
   "execution_count": 17,
   "id": "14c7c4e7",
   "metadata": {},
   "outputs": [
    {
     "data": {
      "text/plain": [
       "(array([1.753e+03, 1.527e+03, 1.377e+03, 1.071e+03, 9.110e+02, 6.160e+02,\n",
       "        4.400e+02, 2.890e+02, 2.260e+02, 1.330e+02, 8.300e+01, 4.100e+01,\n",
       "        2.500e+01, 1.100e+01, 1.200e+01, 4.000e+00, 1.000e+00, 1.000e+00,\n",
       "        1.000e+00, 1.000e+00]),\n",
       " array([   33.29   ,   685.97374,  1338.65748,  1991.34122,  2644.02496,\n",
       "         3296.7087 ,  3949.39244,  4602.07618,  5254.75992,  5907.44366,\n",
       "         6560.1274 ,  7212.81114,  7865.49488,  8518.17862,  9170.86236,\n",
       "         9823.5461 , 10476.22984, 11128.91358, 11781.59732, 12434.28106,\n",
       "        13086.9648 ]),\n",
       " <BarContainer object of 20 artists>)"
      ]
     },
     "execution_count": 17,
     "metadata": {},
     "output_type": "execute_result"
    },
    {
     "data": {
      "image/png": "[encoded data removed]",
      "text/plain": [
       "<Figure size 432x288 with 1 Axes>"
      ]
     },
     "metadata": {
      "needs_background": "light"
     },
     "output_type": "display_data"
    }
   ],
   "source": [
    "plt.hist(train['Item_Outlet_Sales'], bins= 20, color = 'green')"
   ]
  },
  {
   "cell_type": "code",
   "execution_count": 18,
   "id": "6dd4e1ed",
   "metadata": {},
   "outputs": [
    {
     "data": {
      "text/plain": [
       "Text(0, 0.5, 'counts')"
      ]
     },
     "execution_count": 18,
     "metadata": {},
     "output_type": "execute_result"
    },
    {
     "data": {
      "image/png": "[encoded data removed]",
      "text/plain": [
       "<Figure size 432x288 with 1 Axes>"
      ]
     },
     "metadata": {
      "needs_background": "light"
     },
     "output_type": "display_data"
    }
   ],
   "source": [
    "train['Item_Fat_Content'].value_counts(normalize= True)\n",
    "train['Item_Fat_Content'].value_counts().plot.bar()\n",
    "plt.xlabel('Number of Item Fat Content')\n",
    "plt.ylabel('counts')"
   ]
  },
  {
   "cell_type": "code",
   "execution_count": 19,
   "id": "d0b7af00",
   "metadata": {},
   "outputs": [
    {
     "data": {
      "image/png": "[encoded data removed]",
      "text/plain": [
       "<Figure size 432x288 with 1 Axes>"
      ]
     },
     "metadata": {
      "needs_background": "light"
     },
     "output_type": "display_data"
    }
   ],
   "source": [
    "train['Item_Type'].value_counts(normalize=True)\n",
    "train['Item_Type'].value_counts().plot.bar()\n",
    "plt.xlabel('item')\n",
    "plt.ylabel('item counts')\n",
    "plt.show()"
   ]
  },
  {
   "cell_type": "code",
   "execution_count": 20,
   "id": "6256f901",
   "metadata": {},
   "outputs": [
    {
     "data": {
      "text/plain": [
       "(14204, 12)"
      ]
     },
     "execution_count": 20,
     "metadata": {},
     "output_type": "execute_result"
    }
   ],
   "source": [
    "data = pd.concat([train, test])\n",
    "data.shape"
   ]
  },
  {
   "cell_type": "code",
   "execution_count": 21,
   "id": "7d22a01a",
   "metadata": {},
   "outputs": [
    {
     "name": "stdout",
     "output_type": "stream",
     "text": [
      "<class 'pandas.core.frame.DataFrame'>\n",
      "Int64Index: 14204 entries, 0 to 5680\n",
      "Data columns (total 12 columns):\n",
      " #   Column                     Non-Null Count  Dtype  \n",
      "---  ------                     --------------  -----  \n",
      " 0   Item_Identifier            14204 non-null  object \n",
      " 1   Item_Weight                14204 non-null  float64\n",
      " 2   Item_Fat_Content           14204 non-null  object \n",
      " 3   Item_Visibility            14204 non-null  float64\n",
      " 4   Item_Type                  14204 non-null  object \n",
      " 5   Item_MRP                   14204 non-null  float64\n",
      " 6   Outlet_Identifier          14204 non-null  object \n",
      " 7   Outlet_Establishment_Year  14204 non-null  int64  \n",
      " 8   Outlet_Size                14204 non-null  object \n",
      " 9   Outlet_Location_Type       14204 non-null  object \n",
      " 10  Outlet_Type                14204 non-null  object \n",
      " 11  Item_Outlet_Sales          8523 non-null   float64\n",
      "dtypes: float64(4), int64(1), object(7)\n",
      "memory usage: 1.4+ MB\n"
     ]
    }
   ],
   "source": [
    "data.info()"
   ]
  },
  {
   "cell_type": "code",
   "execution_count": 22,
   "id": "2e6b4abd",
   "metadata": {},
   "outputs": [],
   "source": [
    "data['Item_Identifier'] = data['Item_Identifier'].apply(lambda x: x[0:2])"
   ]
  },
  {
   "cell_type": "code",
   "execution_count": 23,
   "id": "edfc1a37",
   "metadata": {},
   "outputs": [
    {
     "data": {
      "text/plain": [
       "FD    10201\n",
       "NC     2686\n",
       "DR     1317\n",
       "Name: Item_Identifier, dtype: int64"
      ]
     },
     "execution_count": 23,
     "metadata": {},
     "output_type": "execute_result"
    }
   ],
   "source": [
    "data['Item_Identifier'].value_counts()"
   ]
  },
  {
   "cell_type": "code",
   "execution_count": 24,
   "id": "2ebffaef",
   "metadata": {},
   "outputs": [],
   "source": [
    "data['Item_Identifier'] = data['Item_Identifier'].map({'FD' : 'Food', 'NC' : 'Non_Consumable', 'DR' : 'Drinks'})"
   ]
  },
  {
   "cell_type": "code",
   "execution_count": 25,
   "id": "c924dbc0",
   "metadata": {},
   "outputs": [
    {
     "data": {
      "text/plain": [
       "Low Fat    8485\n",
       "Regular    4824\n",
       "LF          522\n",
       "reg         195\n",
       "low fat     178\n",
       "Name: Item_Fat_Content, dtype: int64"
      ]
     },
     "execution_count": 25,
     "metadata": {},
     "output_type": "execute_result"
    }
   ],
   "source": [
    "data['Item_Fat_Content'].value_counts()"
   ]
  },
  {
   "cell_type": "code",
   "execution_count": 26,
   "id": "5219fd5a",
   "metadata": {},
   "outputs": [
    {
     "data": {
      "text/plain": [
       "Low Fat    9185\n",
       "Regular    5019\n",
       "Name: Item_Fat_Content, dtype: int64"
      ]
     },
     "execution_count": 26,
     "metadata": {},
     "output_type": "execute_result"
    }
   ],
   "source": [
    "data['Item_Fat_Content'] = data['Item_Fat_Content'].replace({'LF': 'Low Fat', 'reg' : 'Regular', 'low fat' : 'Low Fat'})\n",
    "data['Item_Fat_Content'].value_counts()"
   ]
  },
  {
   "cell_type": "code",
   "execution_count": 27,
   "id": "7d852534",
   "metadata": {},
   "outputs": [
    {
     "data": {
      "text/plain": [
       "28    2439\n",
       "26    1553\n",
       "14    1550\n",
       "16    1550\n",
       "9     1550\n",
       "11    1548\n",
       "4     1546\n",
       "6     1543\n",
       "15     925\n",
       "Name: Outlet_year, dtype: int64"
      ]
     },
     "execution_count": 27,
     "metadata": {},
     "output_type": "execute_result"
    }
   ],
   "source": [
    "data['Outlet_year'] = 2013 - data['Outlet_Establishment_Year']\n",
    "data['Outlet_year'].value_counts()"
   ]
  },
  {
   "cell_type": "code",
   "execution_count": 28,
   "id": "154cf65c",
   "metadata": {},
   "outputs": [
    {
     "data": {
      "text/plain": [
       "Fruits and Vegetables    2013\n",
       "Snack Foods              1989\n",
       "Household                1548\n",
       "Frozen Foods             1426\n",
       "Dairy                    1136\n",
       "Baking Goods             1086\n",
       "Canned                   1084\n",
       "Health and Hygiene        858\n",
       "Meat                      736\n",
       "Soft Drinks               726\n",
       "Breads                    416\n",
       "Hard Drinks               362\n",
       "Others                    280\n",
       "Starchy Foods             269\n",
       "Breakfast                 186\n",
       "Seafood                    89\n",
       "Name: Item_Type, dtype: int64"
      ]
     },
     "execution_count": 28,
     "metadata": {},
     "output_type": "execute_result"
    }
   ],
   "source": [
    "data['Item_Type'].value_counts()"
   ]
  },
  {
   "cell_type": "code",
   "execution_count": 29,
   "id": "52f49c26",
   "metadata": {},
   "outputs": [
    {
     "data": {
      "text/html": [
       "<div>\n",
       "<style scoped>\n",
       "    .dataframe tbody tr th:only-of-type {\n",
       "        vertical-align: middle;\n",
       "    }\n",
       "\n",
       "    .dataframe tbody tr th {\n",
       "        vertical-align: top;\n",
       "    }\n",
       "\n",
       "    .dataframe thead th {\n",
       "        text-align: right;\n",
       "    }\n",
       "</style>\n",
       "<table border=\"1\" class=\"dataframe\">\n",
       "  <thead>\n",
       "    <tr style=\"text-align: right;\">\n",
       "      <th></th>\n",
       "      <th>Item_Identifier</th>\n",
       "      <th>Item_Weight</th>\n",
       "      <th>Item_Fat_Content</th>\n",
       "      <th>Item_Visibility</th>\n",
       "      <th>Item_Type</th>\n",
       "      <th>Item_MRP</th>\n",
       "      <th>Outlet_Identifier</th>\n",
       "      <th>Outlet_Establishment_Year</th>\n",
       "      <th>Outlet_Size</th>\n",
       "      <th>Outlet_Location_Type</th>\n",
       "      <th>Outlet_Type</th>\n",
       "      <th>Item_Outlet_Sales</th>\n",
       "      <th>Outlet_year</th>\n",
       "    </tr>\n",
       "  </thead>\n",
       "  <tbody>\n",
       "    <tr>\n",
       "      <th>0</th>\n",
       "      <td>Food</td>\n",
       "      <td>9.30</td>\n",
       "      <td>Low Fat</td>\n",
       "      <td>0.016047</td>\n",
       "      <td>Dairy</td>\n",
       "      <td>249.8092</td>\n",
       "      <td>OUT049</td>\n",
       "      <td>1999</td>\n",
       "      <td>Medium</td>\n",
       "      <td>Tier 1</td>\n",
       "      <td>Supermarket Type1</td>\n",
       "      <td>3735.1380</td>\n",
       "      <td>14</td>\n",
       "    </tr>\n",
       "    <tr>\n",
       "      <th>1</th>\n",
       "      <td>Drinks</td>\n",
       "      <td>5.92</td>\n",
       "      <td>Regular</td>\n",
       "      <td>0.019278</td>\n",
       "      <td>Soft Drinks</td>\n",
       "      <td>48.2692</td>\n",
       "      <td>OUT018</td>\n",
       "      <td>2009</td>\n",
       "      <td>Medium</td>\n",
       "      <td>Tier 3</td>\n",
       "      <td>Supermarket Type2</td>\n",
       "      <td>443.4228</td>\n",
       "      <td>4</td>\n",
       "    </tr>\n",
       "    <tr>\n",
       "      <th>2</th>\n",
       "      <td>Food</td>\n",
       "      <td>17.50</td>\n",
       "      <td>Low Fat</td>\n",
       "      <td>0.016760</td>\n",
       "      <td>Meat</td>\n",
       "      <td>141.6180</td>\n",
       "      <td>OUT049</td>\n",
       "      <td>1999</td>\n",
       "      <td>Medium</td>\n",
       "      <td>Tier 1</td>\n",
       "      <td>Supermarket Type1</td>\n",
       "      <td>2097.2700</td>\n",
       "      <td>14</td>\n",
       "    </tr>\n",
       "    <tr>\n",
       "      <th>3</th>\n",
       "      <td>Food</td>\n",
       "      <td>19.20</td>\n",
       "      <td>Regular</td>\n",
       "      <td>0.000000</td>\n",
       "      <td>Fruits and Vegetables</td>\n",
       "      <td>182.0950</td>\n",
       "      <td>OUT010</td>\n",
       "      <td>1998</td>\n",
       "      <td>Medium</td>\n",
       "      <td>Tier 3</td>\n",
       "      <td>Grocery Store</td>\n",
       "      <td>732.3800</td>\n",
       "      <td>15</td>\n",
       "    </tr>\n",
       "    <tr>\n",
       "      <th>4</th>\n",
       "      <td>Non_Consumable</td>\n",
       "      <td>8.93</td>\n",
       "      <td>Low Fat</td>\n",
       "      <td>0.000000</td>\n",
       "      <td>Household</td>\n",
       "      <td>53.8614</td>\n",
       "      <td>OUT013</td>\n",
       "      <td>1987</td>\n",
       "      <td>High</td>\n",
       "      <td>Tier 3</td>\n",
       "      <td>Supermarket Type1</td>\n",
       "      <td>994.7052</td>\n",
       "      <td>26</td>\n",
       "    </tr>\n",
       "  </tbody>\n",
       "</table>\n",
       "</div>"
      ],
      "text/plain": [
       "  Item_Identifier  Item_Weight Item_Fat_Content  Item_Visibility  \\\n",
       "0            Food         9.30          Low Fat         0.016047   \n",
       "1          Drinks         5.92          Regular         0.019278   \n",
       "2            Food        17.50          Low Fat         0.016760   \n",
       "3            Food        19.20          Regular         0.000000   \n",
       "4  Non_Consumable         8.93          Low Fat         0.000000   \n",
       "\n",
       "               Item_Type  Item_MRP Outlet_Identifier  \\\n",
       "0                  Dairy  249.8092            OUT049   \n",
       "1            Soft Drinks   48.2692            OUT018   \n",
       "2                   Meat  141.6180            OUT049   \n",
       "3  Fruits and Vegetables  182.0950            OUT010   \n",
       "4              Household   53.8614            OUT013   \n",
       "\n",
       "   Outlet_Establishment_Year Outlet_Size Outlet_Location_Type  \\\n",
       "0                       1999      Medium               Tier 1   \n",
       "1                       2009      Medium               Tier 3   \n",
       "2                       1999      Medium               Tier 1   \n",
       "3                       1998      Medium               Tier 3   \n",
       "4                       1987        High               Tier 3   \n",
       "\n",
       "         Outlet_Type  Item_Outlet_Sales  Outlet_year  \n",
       "0  Supermarket Type1          3735.1380           14  \n",
       "1  Supermarket Type2           443.4228            4  \n",
       "2  Supermarket Type1          2097.2700           14  \n",
       "3      Grocery Store           732.3800           15  \n",
       "4  Supermarket Type1           994.7052           26  "
      ]
     },
     "execution_count": 29,
     "metadata": {},
     "output_type": "execute_result"
    }
   ],
   "source": [
    "data.head()"
   ]
  },
  {
   "cell_type": "code",
   "execution_count": 30,
   "id": "6603063a",
   "metadata": {},
   "outputs": [],
   "source": [
    "data.drop(['Outlet_Establishment_Year'], axis= 1 , inplace= True)"
   ]
  },
  {
   "cell_type": "code",
   "execution_count": 31,
   "id": "d1278e2e",
   "metadata": {},
   "outputs": [],
   "source": [
    "columns = ['Item_Identifier','Item_Fat_Content','Item_Type','Outlet_Identifier','Outlet_Size','Outlet_Location_Type','Outlet_Type','Outlet_year']\n",
    "\n",
    "from sklearn.preprocessing import LabelEncoder\n",
    "le = LabelEncoder()\n",
    "\n",
    "for i in columns:\n",
    "    data[i] = le.fit_transform(data[i])"
   ]
  },
  {
   "cell_type": "code",
   "execution_count": 32,
   "id": "088429db",
   "metadata": {},
   "outputs": [
    {
     "data": {
      "text/html": [
       "<div>\n",
       "<style scoped>\n",
       "    .dataframe tbody tr th:only-of-type {\n",
       "        vertical-align: middle;\n",
       "    }\n",
       "\n",
       "    .dataframe tbody tr th {\n",
       "        vertical-align: top;\n",
       "    }\n",
       "\n",
       "    .dataframe thead th {\n",
       "        text-align: right;\n",
       "    }\n",
       "</style>\n",
       "<table border=\"1\" class=\"dataframe\">\n",
       "  <thead>\n",
       "    <tr style=\"text-align: right;\">\n",
       "      <th></th>\n",
       "      <th>Item_Identifier</th>\n",
       "      <th>Item_Weight</th>\n",
       "      <th>Item_Fat_Content</th>\n",
       "      <th>Item_Visibility</th>\n",
       "      <th>Item_Type</th>\n",
       "      <th>Item_MRP</th>\n",
       "      <th>Outlet_Identifier</th>\n",
       "      <th>Outlet_Size</th>\n",
       "      <th>Outlet_Location_Type</th>\n",
       "      <th>Outlet_Type</th>\n",
       "      <th>Item_Outlet_Sales</th>\n",
       "      <th>Outlet_year</th>\n",
       "    </tr>\n",
       "  </thead>\n",
       "  <tbody>\n",
       "    <tr>\n",
       "      <th>0</th>\n",
       "      <td>1</td>\n",
       "      <td>9.30</td>\n",
       "      <td>0</td>\n",
       "      <td>0.016047</td>\n",
       "      <td>4</td>\n",
       "      <td>249.8092</td>\n",
       "      <td>9</td>\n",
       "      <td>1</td>\n",
       "      <td>0</td>\n",
       "      <td>1</td>\n",
       "      <td>3735.1380</td>\n",
       "      <td>4</td>\n",
       "    </tr>\n",
       "    <tr>\n",
       "      <th>1</th>\n",
       "      <td>0</td>\n",
       "      <td>5.92</td>\n",
       "      <td>1</td>\n",
       "      <td>0.019278</td>\n",
       "      <td>14</td>\n",
       "      <td>48.2692</td>\n",
       "      <td>3</td>\n",
       "      <td>1</td>\n",
       "      <td>2</td>\n",
       "      <td>2</td>\n",
       "      <td>443.4228</td>\n",
       "      <td>0</td>\n",
       "    </tr>\n",
       "    <tr>\n",
       "      <th>2</th>\n",
       "      <td>1</td>\n",
       "      <td>17.50</td>\n",
       "      <td>0</td>\n",
       "      <td>0.016760</td>\n",
       "      <td>10</td>\n",
       "      <td>141.6180</td>\n",
       "      <td>9</td>\n",
       "      <td>1</td>\n",
       "      <td>0</td>\n",
       "      <td>1</td>\n",
       "      <td>2097.2700</td>\n",
       "      <td>4</td>\n",
       "    </tr>\n",
       "    <tr>\n",
       "      <th>3</th>\n",
       "      <td>1</td>\n",
       "      <td>19.20</td>\n",
       "      <td>1</td>\n",
       "      <td>0.000000</td>\n",
       "      <td>6</td>\n",
       "      <td>182.0950</td>\n",
       "      <td>0</td>\n",
       "      <td>1</td>\n",
       "      <td>2</td>\n",
       "      <td>0</td>\n",
       "      <td>732.3800</td>\n",
       "      <td>5</td>\n",
       "    </tr>\n",
       "    <tr>\n",
       "      <th>4</th>\n",
       "      <td>2</td>\n",
       "      <td>8.93</td>\n",
       "      <td>0</td>\n",
       "      <td>0.000000</td>\n",
       "      <td>9</td>\n",
       "      <td>53.8614</td>\n",
       "      <td>1</td>\n",
       "      <td>0</td>\n",
       "      <td>2</td>\n",
       "      <td>1</td>\n",
       "      <td>994.7052</td>\n",
       "      <td>7</td>\n",
       "    </tr>\n",
       "  </tbody>\n",
       "</table>\n",
       "</div>"
      ],
      "text/plain": [
       "   Item_Identifier  Item_Weight  Item_Fat_Content  Item_Visibility  Item_Type  \\\n",
       "0                1         9.30                 0         0.016047          4   \n",
       "1                0         5.92                 1         0.019278         14   \n",
       "2                1        17.50                 0         0.016760         10   \n",
       "3                1        19.20                 1         0.000000          6   \n",
       "4                2         8.93                 0         0.000000          9   \n",
       "\n",
       "   Item_MRP  Outlet_Identifier  Outlet_Size  Outlet_Location_Type  \\\n",
       "0  249.8092                  9            1                     0   \n",
       "1   48.2692                  3            1                     2   \n",
       "2  141.6180                  9            1                     0   \n",
       "3  182.0950                  0            1                     2   \n",
       "4   53.8614                  1            0                     2   \n",
       "\n",
       "   Outlet_Type  Item_Outlet_Sales  Outlet_year  \n",
       "0            1          3735.1380            4  \n",
       "1            2           443.4228            0  \n",
       "2            1          2097.2700            4  \n",
       "3            0           732.3800            5  \n",
       "4            1           994.7052            7  "
      ]
     },
     "execution_count": 32,
     "metadata": {},
     "output_type": "execute_result"
    }
   ],
   "source": [
    "data.head()"
   ]
  },
  {
   "cell_type": "code",
   "execution_count": 33,
   "id": "6d77ceb4",
   "metadata": {},
   "outputs": [],
   "source": [
    "data = pd.get_dummies(data= data, columns= columns, drop_first= True)"
   ]
  },
  {
   "cell_type": "code",
   "execution_count": 34,
   "id": "678f78cd",
   "metadata": {},
   "outputs": [
    {
     "data": {
      "text/html": [
       "<div>\n",
       "<style scoped>\n",
       "    .dataframe tbody tr th:only-of-type {\n",
       "        vertical-align: middle;\n",
       "    }\n",
       "\n",
       "    .dataframe tbody tr th {\n",
       "        vertical-align: top;\n",
       "    }\n",
       "\n",
       "    .dataframe thead th {\n",
       "        text-align: right;\n",
       "    }\n",
       "</style>\n",
       "<table border=\"1\" class=\"dataframe\">\n",
       "  <thead>\n",
       "    <tr style=\"text-align: right;\">\n",
       "      <th></th>\n",
       "      <th>Item_Weight</th>\n",
       "      <th>Item_Visibility</th>\n",
       "      <th>Item_MRP</th>\n",
       "      <th>Item_Outlet_Sales</th>\n",
       "      <th>Item_Identifier_1</th>\n",
       "      <th>Item_Identifier_2</th>\n",
       "      <th>Item_Fat_Content_1</th>\n",
       "      <th>Item_Type_1</th>\n",
       "      <th>Item_Type_2</th>\n",
       "      <th>Item_Type_3</th>\n",
       "      <th>...</th>\n",
       "      <th>Outlet_Type_2</th>\n",
       "      <th>Outlet_Type_3</th>\n",
       "      <th>Outlet_year_1</th>\n",
       "      <th>Outlet_year_2</th>\n",
       "      <th>Outlet_year_3</th>\n",
       "      <th>Outlet_year_4</th>\n",
       "      <th>Outlet_year_5</th>\n",
       "      <th>Outlet_year_6</th>\n",
       "      <th>Outlet_year_7</th>\n",
       "      <th>Outlet_year_8</th>\n",
       "    </tr>\n",
       "  </thead>\n",
       "  <tbody>\n",
       "    <tr>\n",
       "      <th>0</th>\n",
       "      <td>9.30</td>\n",
       "      <td>0.016047</td>\n",
       "      <td>249.8092</td>\n",
       "      <td>3735.1380</td>\n",
       "      <td>1</td>\n",
       "      <td>0</td>\n",
       "      <td>0</td>\n",
       "      <td>0</td>\n",
       "      <td>0</td>\n",
       "      <td>0</td>\n",
       "      <td>...</td>\n",
       "      <td>0</td>\n",
       "      <td>0</td>\n",
       "      <td>0</td>\n",
       "      <td>0</td>\n",
       "      <td>0</td>\n",
       "      <td>1</td>\n",
       "      <td>0</td>\n",
       "      <td>0</td>\n",
       "      <td>0</td>\n",
       "      <td>0</td>\n",
       "    </tr>\n",
       "    <tr>\n",
       "      <th>1</th>\n",
       "      <td>5.92</td>\n",
       "      <td>0.019278</td>\n",
       "      <td>48.2692</td>\n",
       "      <td>443.4228</td>\n",
       "      <td>0</td>\n",
       "      <td>0</td>\n",
       "      <td>1</td>\n",
       "      <td>0</td>\n",
       "      <td>0</td>\n",
       "      <td>0</td>\n",
       "      <td>...</td>\n",
       "      <td>1</td>\n",
       "      <td>0</td>\n",
       "      <td>0</td>\n",
       "      <td>0</td>\n",
       "      <td>0</td>\n",
       "      <td>0</td>\n",
       "      <td>0</td>\n",
       "      <td>0</td>\n",
       "      <td>0</td>\n",
       "      <td>0</td>\n",
       "    </tr>\n",
       "    <tr>\n",
       "      <th>2</th>\n",
       "      <td>17.50</td>\n",
       "      <td>0.016760</td>\n",
       "      <td>141.6180</td>\n",
       "      <td>2097.2700</td>\n",
       "      <td>1</td>\n",
       "      <td>0</td>\n",
       "      <td>0</td>\n",
       "      <td>0</td>\n",
       "      <td>0</td>\n",
       "      <td>0</td>\n",
       "      <td>...</td>\n",
       "      <td>0</td>\n",
       "      <td>0</td>\n",
       "      <td>0</td>\n",
       "      <td>0</td>\n",
       "      <td>0</td>\n",
       "      <td>1</td>\n",
       "      <td>0</td>\n",
       "      <td>0</td>\n",
       "      <td>0</td>\n",
       "      <td>0</td>\n",
       "    </tr>\n",
       "    <tr>\n",
       "      <th>3</th>\n",
       "      <td>19.20</td>\n",
       "      <td>0.000000</td>\n",
       "      <td>182.0950</td>\n",
       "      <td>732.3800</td>\n",
       "      <td>1</td>\n",
       "      <td>0</td>\n",
       "      <td>1</td>\n",
       "      <td>0</td>\n",
       "      <td>0</td>\n",
       "      <td>0</td>\n",
       "      <td>...</td>\n",
       "      <td>0</td>\n",
       "      <td>0</td>\n",
       "      <td>0</td>\n",
       "      <td>0</td>\n",
       "      <td>0</td>\n",
       "      <td>0</td>\n",
       "      <td>1</td>\n",
       "      <td>0</td>\n",
       "      <td>0</td>\n",
       "      <td>0</td>\n",
       "    </tr>\n",
       "    <tr>\n",
       "      <th>4</th>\n",
       "      <td>8.93</td>\n",
       "      <td>0.000000</td>\n",
       "      <td>53.8614</td>\n",
       "      <td>994.7052</td>\n",
       "      <td>0</td>\n",
       "      <td>1</td>\n",
       "      <td>0</td>\n",
       "      <td>0</td>\n",
       "      <td>0</td>\n",
       "      <td>0</td>\n",
       "      <td>...</td>\n",
       "      <td>0</td>\n",
       "      <td>0</td>\n",
       "      <td>0</td>\n",
       "      <td>0</td>\n",
       "      <td>0</td>\n",
       "      <td>0</td>\n",
       "      <td>0</td>\n",
       "      <td>0</td>\n",
       "      <td>1</td>\n",
       "      <td>0</td>\n",
       "    </tr>\n",
       "  </tbody>\n",
       "</table>\n",
       "<p>5 rows × 46 columns</p>\n",
       "</div>"
      ],
      "text/plain": [
       "   Item_Weight  Item_Visibility  Item_MRP  Item_Outlet_Sales  \\\n",
       "0         9.30         0.016047  249.8092          3735.1380   \n",
       "1         5.92         0.019278   48.2692           443.4228   \n",
       "2        17.50         0.016760  141.6180          2097.2700   \n",
       "3        19.20         0.000000  182.0950           732.3800   \n",
       "4         8.93         0.000000   53.8614           994.7052   \n",
       "\n",
       "   Item_Identifier_1  Item_Identifier_2  Item_Fat_Content_1  Item_Type_1  \\\n",
       "0                  1                  0                   0            0   \n",
       "1                  0                  0                   1            0   \n",
       "2                  1                  0                   0            0   \n",
       "3                  1                  0                   1            0   \n",
       "4                  0                  1                   0            0   \n",
       "\n",
       "   Item_Type_2  Item_Type_3  ...  Outlet_Type_2  Outlet_Type_3  Outlet_year_1  \\\n",
       "0            0            0  ...              0              0              0   \n",
       "1            0            0  ...              1              0              0   \n",
       "2            0            0  ...              0              0              0   \n",
       "3            0            0  ...              0              0              0   \n",
       "4            0            0  ...              0              0              0   \n",
       "\n",
       "   Outlet_year_2  Outlet_year_3  Outlet_year_4  Outlet_year_5  Outlet_year_6  \\\n",
       "0              0              0              1              0              0   \n",
       "1              0              0              0              0              0   \n",
       "2              0              0              1              0              0   \n",
       "3              0              0              0              1              0   \n",
       "4              0              0              0              0              0   \n",
       "\n",
       "   Outlet_year_7  Outlet_year_8  \n",
       "0              0              0  \n",
       "1              0              0  \n",
       "2              0              0  \n",
       "3              0              0  \n",
       "4              1              0  \n",
       "\n",
       "[5 rows x 46 columns]"
      ]
     },
     "execution_count": 34,
     "metadata": {},
     "output_type": "execute_result"
    }
   ],
   "source": [
    "data.head()"
   ]
  },
  {
   "cell_type": "code",
   "execution_count": 35,
   "id": "514d4ab6",
   "metadata": {},
   "outputs": [
    {
     "data": {
      "text/plain": [
       "Index(['Item_Weight', 'Item_Visibility', 'Item_MRP', 'Item_Outlet_Sales',\n",
       "       'Item_Identifier_1', 'Item_Identifier_2', 'Item_Fat_Content_1',\n",
       "       'Item_Type_1', 'Item_Type_2', 'Item_Type_3', 'Item_Type_4',\n",
       "       'Item_Type_5', 'Item_Type_6', 'Item_Type_7', 'Item_Type_8',\n",
       "       'Item_Type_9', 'Item_Type_10', 'Item_Type_11', 'Item_Type_12',\n",
       "       'Item_Type_13', 'Item_Type_14', 'Item_Type_15', 'Outlet_Identifier_1',\n",
       "       'Outlet_Identifier_2', 'Outlet_Identifier_3', 'Outlet_Identifier_4',\n",
       "       'Outlet_Identifier_5', 'Outlet_Identifier_6', 'Outlet_Identifier_7',\n",
       "       'Outlet_Identifier_8', 'Outlet_Identifier_9', 'Outlet_Size_1',\n",
       "       'Outlet_Size_2', 'Outlet_Location_Type_1', 'Outlet_Location_Type_2',\n",
       "       'Outlet_Type_1', 'Outlet_Type_2', 'Outlet_Type_3', 'Outlet_year_1',\n",
       "       'Outlet_year_2', 'Outlet_year_3', 'Outlet_year_4', 'Outlet_year_5',\n",
       "       'Outlet_year_6', 'Outlet_year_7', 'Outlet_year_8'],\n",
       "      dtype='object')"
      ]
     },
     "execution_count": 35,
     "metadata": {},
     "output_type": "execute_result"
    }
   ],
   "source": [
    "data.columns"
   ]
  },
  {
   "cell_type": "code",
   "execution_count": 36,
   "id": "d327d924",
   "metadata": {},
   "outputs": [],
   "source": [
    "train = data[ : 8523]\n",
    "test = data[8523 : ]\n",
    "test.drop(['Item_Outlet_Sales'], axis=1, inplace=True)"
   ]
  },
  {
   "cell_type": "code",
   "execution_count": 37,
   "id": "3a57b9b5",
   "metadata": {},
   "outputs": [],
   "source": [
    "x = train.drop(['Item_Outlet_Sales'], axis=1)\n",
    "y = train['Item_Outlet_Sales']"
   ]
  },
  {
   "cell_type": "code",
   "execution_count": 38,
   "id": "01e45e7d",
   "metadata": {},
   "outputs": [],
   "source": [
    "from sklearn.model_selection import train_test_split\n",
    "\n",
    "x_train, x_test, y_train, y_test = train_test_split(x, y, train_size= 0.75, random_state=123)"
   ]
  },
  {
   "cell_type": "code",
   "execution_count": 39,
   "id": "a03a121b",
   "metadata": {},
   "outputs": [
    {
     "data": {
      "text/plain": [
       "((6392, 45), (6392,), (2131, 45), (2131,))"
      ]
     },
     "execution_count": 39,
     "metadata": {},
     "output_type": "execute_result"
    }
   ],
   "source": [
    "x_train.shape, y_train.shape, x_test.shape, y_test.shape"
   ]
  },
  {
   "cell_type": "markdown",
   "id": "17a35af0",
   "metadata": {},
   "source": [
    "## Modeling\n",
    "## Linear Regression"
   ]
  },
  {
   "cell_type": "code",
   "execution_count": 40,
   "id": "3a8ee43a",
   "metadata": {},
   "outputs": [],
   "source": [
    "from sklearn.linear_model import LinearRegression\n",
    "from sklearn.metrics import mean_squared_error, r2_score"
   ]
  },
  {
   "cell_type": "code",
   "execution_count": 41,
   "id": "f5b91d5a",
   "metadata": {},
   "outputs": [
    {
     "data": {
      "text/plain": [
       "LinearRegression()"
      ]
     },
     "execution_count": 41,
     "metadata": {},
     "output_type": "execute_result"
    }
   ],
   "source": [
    "lr = LinearRegression()\n",
    "lr.fit(x_train, y_train)"
   ]
  },
  {
   "cell_type": "code",
   "execution_count": 42,
   "id": "2fe4e872",
   "metadata": {},
   "outputs": [],
   "source": [
    "lr_pred_ = lr.predict(x_test)"
   ]
  },
  {
   "cell_type": "code",
   "execution_count": 43,
   "id": "ea2f8b29",
   "metadata": {},
   "outputs": [
    {
     "name": "stdout",
     "output_type": "stream",
     "text": [
      "RMSE : 1119.3778495278812\n",
      "Variance score : 0.570063\n"
     ]
    }
   ],
   "source": [
    "mse = mean_squared_error(y_true= y_test, y_pred= lr_pred_)\n",
    "print(\"RMSE :\", np.sqrt(mse))\n",
    "print(\"Variance score : %2f\" %r2_score(y_true= y_test, y_pred= lr_pred_))"
   ]
  },
  {
   "cell_type": "code",
   "execution_count": 44,
   "id": "e999e6ec",
   "metadata": {},
   "outputs": [],
   "source": [
    "lr_pred_org = lr.predict(test)"
   ]
  },
  {
   "cell_type": "code",
   "execution_count": 45,
   "id": "c6b0dee9",
   "metadata": {},
   "outputs": [],
   "source": [
    "dataset01 = pd.DataFrame({'Item_Identifier': test_val['Item_Identifier'],\n",
    "                         'Outlet_Identifier' : test_val['Outlet_Identifier'],\n",
    "                         'Item_Outlet_Sales' : lr_pred_org}, columns= test_val.columns)"
   ]
  },
  {
   "cell_type": "code",
   "execution_count": 46,
   "id": "195a0821",
   "metadata": {},
   "outputs": [],
   "source": [
    "dataset01.to_csv('sample_submission01.csv', index=False)"
   ]
  },
  {
   "cell_type": "markdown",
   "id": "ae264a63",
   "metadata": {},
   "source": [
    "## AdaBoost Regressor"
   ]
  },
  {
   "cell_type": "code",
   "execution_count": 47,
   "id": "8b95d436",
   "metadata": {},
   "outputs": [],
   "source": [
    "from sklearn.ensemble import AdaBoostRegressor"
   ]
  },
  {
   "cell_type": "code",
   "execution_count": 48,
   "id": "18059f0a",
   "metadata": {},
   "outputs": [
    {
     "data": {
      "text/plain": [
       "AdaBoostRegressor(n_estimators=100, random_state=123)"
      ]
     },
     "execution_count": 48,
     "metadata": {},
     "output_type": "execute_result"
    }
   ],
   "source": [
    "abr = AdaBoostRegressor(n_estimators= 100, random_state=123)\n",
    "abr.fit(x_train, y_train)"
   ]
  },
  {
   "cell_type": "code",
   "execution_count": 49,
   "id": "b64ac1c0",
   "metadata": {},
   "outputs": [
    {
     "data": {
      "text/plain": [
       "{'base_estimator': None,\n",
       " 'learning_rate': 1.0,\n",
       " 'loss': 'linear',\n",
       " 'n_estimators': 100,\n",
       " 'random_state': 123}"
      ]
     },
     "execution_count": 49,
     "metadata": {},
     "output_type": "execute_result"
    }
   ],
   "source": [
    "abr.get_params()"
   ]
  },
  {
   "cell_type": "code",
   "execution_count": 50,
   "id": "0bafb668",
   "metadata": {},
   "outputs": [
    {
     "name": "stdout",
     "output_type": "stream",
     "text": [
      "RMSE : 1251.755294757679\n"
     ]
    }
   ],
   "source": [
    "abr_pred_ = abr.predict(x_test)\n",
    "\n",
    "mse02 = mean_squared_error(y_true= y_test, y_pred= abr_pred_)\n",
    "print(\"RMSE :\", np.sqrt(mse02))"
   ]
  },
  {
   "cell_type": "markdown",
   "id": "af347f42",
   "metadata": {},
   "source": [
    "## Random Forest Regressor"
   ]
  },
  {
   "cell_type": "code",
   "execution_count": 51,
   "id": "7b96e00e",
   "metadata": {},
   "outputs": [],
   "source": [
    "from sklearn.ensemble import RandomForestRegressor"
   ]
  },
  {
   "cell_type": "code",
   "execution_count": 52,
   "id": "cf6ee78b",
   "metadata": {},
   "outputs": [
    {
     "data": {
      "text/plain": [
       "RandomForestRegressor(n_estimators=500, n_jobs=-1, random_state=123)"
      ]
     },
     "execution_count": 52,
     "metadata": {},
     "output_type": "execute_result"
    }
   ],
   "source": [
    "rfr = RandomForestRegressor(n_estimators= 500, n_jobs= -1, random_state=123)\n",
    "rfr.fit(x_train, y_train)"
   ]
  },
  {
   "cell_type": "code",
   "execution_count": 53,
   "id": "b8941941",
   "metadata": {},
   "outputs": [
    {
     "data": {
      "text/plain": [
       "{'bootstrap': True,\n",
       " 'ccp_alpha': 0.0,\n",
       " 'criterion': 'squared_error',\n",
       " 'max_depth': None,\n",
       " 'max_features': 'auto',\n",
       " 'max_leaf_nodes': None,\n",
       " 'max_samples': None,\n",
       " 'min_impurity_decrease': 0.0,\n",
       " 'min_samples_leaf': 1,\n",
       " 'min_samples_split': 2,\n",
       " 'min_weight_fraction_leaf': 0.0,\n",
       " 'n_estimators': 500,\n",
       " 'n_jobs': -1,\n",
       " 'oob_score': False,\n",
       " 'random_state': 123,\n",
       " 'verbose': 0,\n",
       " 'warm_start': False}"
      ]
     },
     "execution_count": 53,
     "metadata": {},
     "output_type": "execute_result"
    }
   ],
   "source": [
    "rfr.get_params()"
   ]
  },
  {
   "cell_type": "code",
   "execution_count": 54,
   "id": "1a3a316f",
   "metadata": {},
   "outputs": [
    {
     "name": "stdout",
     "output_type": "stream",
     "text": [
      "RMSE : 1137.1564863901763\n",
      "Variance score : 0.556297\n"
     ]
    }
   ],
   "source": [
    "rfr_pred_ = rfr.predict(x_test)\n",
    "\n",
    "mse03 = mean_squared_error(y_true= y_test, y_pred= rfr_pred_)\n",
    "print(\"RMSE :\", np.sqrt(mse03))\n",
    "\n",
    "print(\"Variance score : %2f\" % r2_score(y_test, rfr_pred_))"
   ]
  },
  {
   "cell_type": "code",
   "execution_count": 55,
   "id": "9b7e1a45",
   "metadata": {},
   "outputs": [],
   "source": [
    "rfr_pred_org = rfr.predict(test)"
   ]
  },
  {
   "cell_type": "code",
   "execution_count": 56,
   "id": "3f66320c",
   "metadata": {},
   "outputs": [],
   "source": [
    "dataset02 = pd.DataFrame({'Item_Identifier': test_val['Item_Identifier'],\n",
    "                         'Outlet_Identifier' : test_val['Outlet_Identifier'],\n",
    "                         'Item_Outlet_Sales' : rfr_pred_org}, columns= test_val.columns)"
   ]
  },
  {
   "cell_type": "code",
   "execution_count": 57,
   "id": "45ee5c48",
   "metadata": {},
   "outputs": [],
   "source": [
    "dataset02.to_csv('sample_submission02.csv', index=False)"
   ]
  },
  {
   "cell_type": "markdown",
   "id": "04f21e6c",
   "metadata": {},
   "source": [
    "## XGBoost"
   ]
  },
  {
   "cell_type": "code",
   "execution_count": 71,
   "id": "6c92ef4b",
   "metadata": {},
   "outputs": [],
   "source": [
    "from xgboost import XGBRegressor\n",
    "from sklearn.model_selection import RandomizedSearchCV"
   ]
  },
  {
   "cell_type": "code",
   "execution_count": 72,
   "id": "6b592dd1",
   "metadata": {},
   "outputs": [],
   "source": [
    "params_ = [{'base_score' : [0.5,0.1,0.15,0.2,0.25],\n",
    "           'learning_rate' : [0.001,0.01,0.1,1,10],\n",
    "           'max_depth' : [5,7,9,13,15,17,19],\n",
    "           'n_estimators' : [200,300,500,600,800]}]"
   ]
  },
  {
   "cell_type": "code",
   "execution_count": 73,
   "id": "03944f4d",
   "metadata": {},
   "outputs": [
    {
     "name": "stdout",
     "output_type": "stream",
     "text": [
      "Fitting 5 folds for each of 10 candidates, totalling 50 fits\n",
      "[CV 1/5; 1/10] START base_score=0.5, learning_rate=1, max_depth=7, n_estimators=500\n",
      "[CV 1/5; 1/10] END base_score=0.5, learning_rate=1, max_depth=7, n_estimators=500;, score=0.405 total time=   4.4s\n",
      "[CV 2/5; 1/10] START base_score=0.5, learning_rate=1, max_depth=7, n_estimators=500\n",
      "[CV 2/5; 1/10] END base_score=0.5, learning_rate=1, max_depth=7, n_estimators=500;, score=0.279 total time=   5.1s\n",
      "[CV 3/5; 1/10] START base_score=0.5, learning_rate=1, max_depth=7, n_estimators=500\n",
      "[CV 3/5; 1/10] END base_score=0.5, learning_rate=1, max_depth=7, n_estimators=500;, score=0.262 total time=   4.7s\n",
      "[CV 4/5; 1/10] START base_score=0.5, learning_rate=1, max_depth=7, n_estimators=500\n",
      "[CV 4/5; 1/10] END base_score=0.5, learning_rate=1, max_depth=7, n_estimators=500;, score=0.214 total time=   4.2s\n",
      "[CV 5/5; 1/10] START base_score=0.5, learning_rate=1, max_depth=7, n_estimators=500\n",
      "[CV 5/5; 1/10] END base_score=0.5, learning_rate=1, max_depth=7, n_estimators=500;, score=0.227 total time=   4.5s\n",
      "[CV 1/5; 2/10] START base_score=0.25, learning_rate=10, max_depth=9, n_estimators=200\n",
      "[CV 1/5; 2/10] END base_score=0.25, learning_rate=10, max_depth=9, n_estimators=200;, score=nan total time=   1.0s\n",
      "[CV 2/5; 2/10] START base_score=0.25, learning_rate=10, max_depth=9, n_estimators=200\n",
      "[CV 2/5; 2/10] END base_score=0.25, learning_rate=10, max_depth=9, n_estimators=200;, score=nan total time=   0.7s\n",
      "[CV 3/5; 2/10] START base_score=0.25, learning_rate=10, max_depth=9, n_estimators=200\n",
      "[CV 3/5; 2/10] END base_score=0.25, learning_rate=10, max_depth=9, n_estimators=200;, score=nan total time=   0.9s\n",
      "[CV 4/5; 2/10] START base_score=0.25, learning_rate=10, max_depth=9, n_estimators=200\n",
      "[CV 4/5; 2/10] END base_score=0.25, learning_rate=10, max_depth=9, n_estimators=200;, score=nan total time=   0.7s\n",
      "[CV 5/5; 2/10] START base_score=0.25, learning_rate=10, max_depth=9, n_estimators=200\n",
      "[CV 5/5; 2/10] END base_score=0.25, learning_rate=10, max_depth=9, n_estimators=200;, score=nan total time=   0.6s\n",
      "[CV 1/5; 3/10] START base_score=0.1, learning_rate=10, max_depth=19, n_estimators=800\n",
      "[CV 1/5; 3/10] END base_score=0.1, learning_rate=10, max_depth=19, n_estimators=800;, score=nan total time=   2.1s\n",
      "[CV 2/5; 3/10] START base_score=0.1, learning_rate=10, max_depth=19, n_estimators=800\n",
      "[CV 2/5; 3/10] END base_score=0.1, learning_rate=10, max_depth=19, n_estimators=800;, score=nan total time=   2.1s\n",
      "[CV 3/5; 3/10] START base_score=0.1, learning_rate=10, max_depth=19, n_estimators=800\n",
      "[CV 3/5; 3/10] END base_score=0.1, learning_rate=10, max_depth=19, n_estimators=800;, score=nan total time=   2.2s\n",
      "[CV 4/5; 3/10] START base_score=0.1, learning_rate=10, max_depth=19, n_estimators=800\n",
      "[CV 4/5; 3/10] END base_score=0.1, learning_rate=10, max_depth=19, n_estimators=800;, score=nan total time=   2.0s\n",
      "[CV 5/5; 3/10] START base_score=0.1, learning_rate=10, max_depth=19, n_estimators=800\n",
      "[CV 5/5; 3/10] END base_score=0.1, learning_rate=10, max_depth=19, n_estimators=800;, score=nan total time=   2.0s\n",
      "[CV 1/5; 4/10] START base_score=0.15, learning_rate=0.1, max_depth=15, n_estimators=800\n",
      "[CV 1/5; 4/10] END base_score=0.15, learning_rate=0.1, max_depth=15, n_estimators=800;, score=0.523 total time=  17.0s\n",
      "[CV 2/5; 4/10] START base_score=0.15, learning_rate=0.1, max_depth=15, n_estimators=800\n",
      "[CV 2/5; 4/10] END base_score=0.15, learning_rate=0.1, max_depth=15, n_estimators=800;, score=0.478 total time=  17.4s\n",
      "[CV 3/5; 4/10] START base_score=0.15, learning_rate=0.1, max_depth=15, n_estimators=800\n",
      "[CV 3/5; 4/10] END base_score=0.15, learning_rate=0.1, max_depth=15, n_estimators=800;, score=0.388 total time=  17.0s\n",
      "[CV 4/5; 4/10] START base_score=0.15, learning_rate=0.1, max_depth=15, n_estimators=800\n",
      "[CV 4/5; 4/10] END base_score=0.15, learning_rate=0.1, max_depth=15, n_estimators=800;, score=0.453 total time=  17.4s\n",
      "[CV 5/5; 4/10] START base_score=0.15, learning_rate=0.1, max_depth=15, n_estimators=800\n",
      "[CV 5/5; 4/10] END base_score=0.15, learning_rate=0.1, max_depth=15, n_estimators=800;, score=0.484 total time=  17.9s\n",
      "[CV 1/5; 5/10] START base_score=0.2, learning_rate=0.01, max_depth=17, n_estimators=200\n",
      "[CV 1/5; 5/10] END base_score=0.2, learning_rate=0.01, max_depth=17, n_estimators=200;, score=0.472 total time=   5.6s\n",
      "[CV 2/5; 5/10] START base_score=0.2, learning_rate=0.01, max_depth=17, n_estimators=200\n",
      "[CV 2/5; 5/10] END base_score=0.2, learning_rate=0.01, max_depth=17, n_estimators=200;, score=0.476 total time=   6.4s\n",
      "[CV 3/5; 5/10] START base_score=0.2, learning_rate=0.01, max_depth=17, n_estimators=200\n",
      "[CV 3/5; 5/10] END base_score=0.2, learning_rate=0.01, max_depth=17, n_estimators=200;, score=0.420 total time=   6.5s\n",
      "[CV 4/5; 5/10] START base_score=0.2, learning_rate=0.01, max_depth=17, n_estimators=200\n",
      "[CV 4/5; 5/10] END base_score=0.2, learning_rate=0.01, max_depth=17, n_estimators=200;, score=0.453 total time=   5.9s\n",
      "[CV 5/5; 5/10] START base_score=0.2, learning_rate=0.01, max_depth=17, n_estimators=200\n",
      "[CV 5/5; 5/10] END base_score=0.2, learning_rate=0.01, max_depth=17, n_estimators=200;, score=0.474 total time=   6.8s\n",
      "[CV 1/5; 6/10] START base_score=0.1, learning_rate=0.001, max_depth=5, n_estimators=500\n",
      "[CV 1/5; 6/10] END base_score=0.1, learning_rate=0.001, max_depth=5, n_estimators=500;, score=-0.218 total time=   3.2s\n",
      "[CV 2/5; 6/10] START base_score=0.1, learning_rate=0.001, max_depth=5, n_estimators=500\n",
      "[CV 2/5; 6/10] END base_score=0.1, learning_rate=0.001, max_depth=5, n_estimators=500;, score=-0.186 total time=   3.5s\n",
      "[CV 3/5; 6/10] START base_score=0.1, learning_rate=0.001, max_depth=5, n_estimators=500\n",
      "[CV 3/5; 6/10] END base_score=0.1, learning_rate=0.001, max_depth=5, n_estimators=500;, score=-0.249 total time=   3.3s\n",
      "[CV 4/5; 6/10] START base_score=0.1, learning_rate=0.001, max_depth=5, n_estimators=500\n",
      "[CV 4/5; 6/10] END base_score=0.1, learning_rate=0.001, max_depth=5, n_estimators=500;, score=-0.302 total time=   4.2s\n",
      "[CV 5/5; 6/10] START base_score=0.1, learning_rate=0.001, max_depth=5, n_estimators=500\n",
      "[CV 5/5; 6/10] END base_score=0.1, learning_rate=0.001, max_depth=5, n_estimators=500;, score=-0.206 total time=   3.2s\n",
      "[CV 1/5; 7/10] START base_score=0.15, learning_rate=1, max_depth=15, n_estimators=300\n",
      "[CV 1/5; 7/10] END base_score=0.15, learning_rate=1, max_depth=15, n_estimators=300;, score=0.397 total time=   2.0s\n",
      "[CV 2/5; 7/10] START base_score=0.15, learning_rate=1, max_depth=15, n_estimators=300\n",
      "[CV 2/5; 7/10] END base_score=0.15, learning_rate=1, max_depth=15, n_estimators=300;, score=0.395 total time=   2.2s\n",
      "[CV 3/5; 7/10] START base_score=0.15, learning_rate=1, max_depth=15, n_estimators=300\n",
      "[CV 3/5; 7/10] END base_score=0.15, learning_rate=1, max_depth=15, n_estimators=300;, score=0.263 total time=   2.1s\n",
      "[CV 4/5; 7/10] START base_score=0.15, learning_rate=1, max_depth=15, n_estimators=300\n",
      "[CV 4/5; 7/10] END base_score=0.15, learning_rate=1, max_depth=15, n_estimators=300;, score=0.237 total time=   2.2s\n",
      "[CV 5/5; 7/10] START base_score=0.15, learning_rate=1, max_depth=15, n_estimators=300\n",
      "[CV 5/5; 7/10] END base_score=0.15, learning_rate=1, max_depth=15, n_estimators=300;, score=0.331 total time=   3.1s\n",
      "[CV 1/5; 8/10] START base_score=0.1, learning_rate=0.1, max_depth=5, n_estimators=300\n",
      "[CV 1/5; 8/10] END base_score=0.1, learning_rate=0.1, max_depth=5, n_estimators=300;, score=0.597 total time=   1.8s\n",
      "[CV 2/5; 8/10] START base_score=0.1, learning_rate=0.1, max_depth=5, n_estimators=300\n",
      "[CV 2/5; 8/10] END base_score=0.1, learning_rate=0.1, max_depth=5, n_estimators=300;, score=0.549 total time=   1.8s\n",
      "[CV 3/5; 8/10] START base_score=0.1, learning_rate=0.1, max_depth=5, n_estimators=300\n",
      "[CV 3/5; 8/10] END base_score=0.1, learning_rate=0.1, max_depth=5, n_estimators=300;, score=0.489 total time=   1.8s\n",
      "[CV 4/5; 8/10] START base_score=0.1, learning_rate=0.1, max_depth=5, n_estimators=300\n",
      "[CV 4/5; 8/10] END base_score=0.1, learning_rate=0.1, max_depth=5, n_estimators=300;, score=0.530 total time=   2.0s\n",
      "[CV 5/5; 8/10] START base_score=0.1, learning_rate=0.1, max_depth=5, n_estimators=300\n",
      "[CV 5/5; 8/10] END base_score=0.1, learning_rate=0.1, max_depth=5, n_estimators=300;, score=0.548 total time=   1.8s\n",
      "[CV 1/5; 9/10] START base_score=0.2, learning_rate=0.001, max_depth=17, n_estimators=800\n"
     ]
    },
    {
     "name": "stdout",
     "output_type": "stream",
     "text": [
      "[CV 1/5; 9/10] END base_score=0.2, learning_rate=0.001, max_depth=17, n_estimators=800;, score=0.078 total time=  23.2s\n",
      "[CV 2/5; 9/10] START base_score=0.2, learning_rate=0.001, max_depth=17, n_estimators=800\n",
      "[CV 2/5; 9/10] END base_score=0.2, learning_rate=0.001, max_depth=17, n_estimators=800;, score=0.121 total time=  20.6s\n",
      "[CV 3/5; 9/10] START base_score=0.2, learning_rate=0.001, max_depth=17, n_estimators=800\n",
      "[CV 3/5; 9/10] END base_score=0.2, learning_rate=0.001, max_depth=17, n_estimators=800;, score=0.045 total time=  20.8s\n",
      "[CV 4/5; 9/10] START base_score=0.2, learning_rate=0.001, max_depth=17, n_estimators=800\n",
      "[CV 4/5; 9/10] END base_score=0.2, learning_rate=0.001, max_depth=17, n_estimators=800;, score=0.028 total time=  22.1s\n",
      "[CV 5/5; 9/10] START base_score=0.2, learning_rate=0.001, max_depth=17, n_estimators=800\n",
      "[CV 5/5; 9/10] END base_score=0.2, learning_rate=0.001, max_depth=17, n_estimators=800;, score=0.104 total time=  21.3s\n",
      "[CV 1/5; 10/10] START base_score=0.1, learning_rate=1, max_depth=17, n_estimators=200\n",
      "[CV 1/5; 10/10] END base_score=0.1, learning_rate=1, max_depth=17, n_estimators=200;, score=0.362 total time=   1.6s\n",
      "[CV 2/5; 10/10] START base_score=0.1, learning_rate=1, max_depth=17, n_estimators=200\n",
      "[CV 2/5; 10/10] END base_score=0.1, learning_rate=1, max_depth=17, n_estimators=200;, score=0.340 total time=   1.7s\n",
      "[CV 3/5; 10/10] START base_score=0.1, learning_rate=1, max_depth=17, n_estimators=200\n",
      "[CV 3/5; 10/10] END base_score=0.1, learning_rate=1, max_depth=17, n_estimators=200;, score=0.267 total time=   1.6s\n",
      "[CV 4/5; 10/10] START base_score=0.1, learning_rate=1, max_depth=17, n_estimators=200\n",
      "[CV 4/5; 10/10] END base_score=0.1, learning_rate=1, max_depth=17, n_estimators=200;, score=0.241 total time=   2.4s\n",
      "[CV 5/5; 10/10] START base_score=0.1, learning_rate=1, max_depth=17, n_estimators=200\n",
      "[CV 5/5; 10/10] END base_score=0.1, learning_rate=1, max_depth=17, n_estimators=200;, score=0.314 total time=   2.0s\n"
     ]
    },
    {
     "data": {
      "text/plain": [
       "RandomizedSearchCV(cv=5,\n",
       "                   estimator=XGBRegressor(base_score=None, booster=None,\n",
       "                                          callbacks=None,\n",
       "                                          colsample_bylevel=None,\n",
       "                                          colsample_bynode=None,\n",
       "                                          colsample_bytree=None,\n",
       "                                          early_stopping_rounds=None,\n",
       "                                          enable_categorical=False,\n",
       "                                          eval_metric=None, gamma=None,\n",
       "                                          gpu_id=None, grow_policy=None,\n",
       "                                          importance_type=None,\n",
       "                                          interaction_constraints=None,\n",
       "                                          learning_rate=None, max_bin=None,\n",
       "                                          m...\n",
       "                                          min_child_weight=None, missing=nan,\n",
       "                                          monotone_constraints=None,\n",
       "                                          n_estimators=100, n_jobs=None,\n",
       "                                          num_parallel_tree=None,\n",
       "                                          predictor=None, random_state=None,\n",
       "                                          reg_alpha=None, reg_lambda=None, ...),\n",
       "                   param_distributions=[{'base_score': [0.5, 0.1, 0.15, 0.2,\n",
       "                                                        0.25],\n",
       "                                         'learning_rate': [0.001, 0.01, 0.1, 1,\n",
       "                                                           10],\n",
       "                                         'max_depth': [5, 7, 9, 13, 15, 17, 19],\n",
       "                                         'n_estimators': [200, 300, 500, 600,\n",
       "                                                          800]}],\n",
       "                   verbose=123)"
      ]
     },
     "execution_count": 73,
     "metadata": {},
     "output_type": "execute_result"
    }
   ],
   "source": [
    "xgb_search = RandomizedSearchCV(estimator= XGBRegressor(), param_distributions= params_, cv=5,verbose=123)\n",
    "\n",
    "xgb_search.fit(x_train, y_train)"
   ]
  },
  {
   "cell_type": "code",
   "execution_count": 75,
   "id": "80d2c4cf",
   "metadata": {},
   "outputs": [
    {
     "data": {
      "text/plain": [
       "XGBRegressor(base_score=0.1, booster='gbtree', callbacks=None,\n",
       "             colsample_bylevel=1, colsample_bynode=1, colsample_bytree=1,\n",
       "             early_stopping_rounds=None, enable_categorical=False,\n",
       "             eval_metric=None, gamma=0, gpu_id=-1, grow_policy='depthwise',\n",
       "             importance_type=None, interaction_constraints='',\n",
       "             learning_rate=0.1, max_bin=256, max_cat_to_onehot=4,\n",
       "             max_delta_step=0, max_depth=5, max_leaves=0, min_child_weight=1,\n",
       "             missing=nan, monotone_constraints='()', n_estimators=300, n_jobs=0,\n",
       "             num_parallel_tree=1, predictor='auto', random_state=0, reg_alpha=0,\n",
       "             reg_lambda=1, ...)"
      ]
     },
     "execution_count": 75,
     "metadata": {},
     "output_type": "execute_result"
    }
   ],
   "source": [
    "xgb_search.best_estimator_"
   ]
  },
  {
   "cell_type": "code",
   "execution_count": 76,
   "id": "03e67c73",
   "metadata": {},
   "outputs": [
    {
     "name": "stdout",
     "output_type": "stream",
     "text": [
      "RMSE : 1135.1247637292734\n",
      "Variance score : 0.557881\n"
     ]
    }
   ],
   "source": [
    "xgb_pred_ = xgb_search.predict(x_test)\n",
    "\n",
    "mse04 = mean_squared_error(y_true= y_test, y_pred= xgb_pred_)\n",
    "print(\"RMSE :\", np.sqrt(mse04))\n",
    "\n",
    "print(\"Variance score : %2f\" % r2_score(y_test, xgb_pred_))"
   ]
  },
  {
   "cell_type": "code",
   "execution_count": 77,
   "id": "9de2f2ba",
   "metadata": {},
   "outputs": [],
   "source": [
    "xgb_pred_org = xgb.predict(test)"
   ]
  },
  {
   "cell_type": "code",
   "execution_count": 78,
   "id": "5a385610",
   "metadata": {},
   "outputs": [],
   "source": [
    "dataset03 = pd.DataFrame({'Item_Identifier': test_val['Item_Identifier'],\n",
    "                         'Outlet_Identifier' : test_val['Outlet_Identifier'],\n",
    "                         'Item_Outlet_Sales' : xgb_pred_org}, columns= test_val.columns)"
   ]
  },
  {
   "cell_type": "code",
   "execution_count": 79,
   "id": "814eedb8",
   "metadata": {},
   "outputs": [],
   "source": [
    "dataset03.to_csv('sample_submission03.csv', index=False)"
   ]
  },
  {
   "cell_type": "code",
   "execution_count": null,
   "id": "2de2b7a7",
   "metadata": {},
   "outputs": [],
   "source": []
  }
 ],
 "metadata": {
  "kernelspec": {
   "display_name": "Python 3 (ipykernel)",
   "language": "python",
   "name": "python3"
  },
  "language_info": {
   "codemirror_mode": {
    "name": "ipython",
    "version": 3
   },
   "file_extension": ".py",
   "mimetype": "text/x-python",
   "name": "python",
   "nbconvert_exporter": "python",
   "pygments_lexer": "ipython3",
   "version": "3.9.12"
  }
 },
 "nbformat": 4,
 "nbformat_minor": 5
}
